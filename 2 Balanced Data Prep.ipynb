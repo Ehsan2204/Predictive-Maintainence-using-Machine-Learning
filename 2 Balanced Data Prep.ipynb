{
 "cells": [
  {
   "cell_type": "code",
   "execution_count": null,
   "metadata": {},
   "outputs": [],
   "source": [
    "import pandas as pd\n",
    "from sklearn.preprocessing import MinMaxScaler\n",
    "from imblearn.over_sampling import RandomOverSampler\n",
    "\n",
    "# Load the cleaned dataset\n",
    "df = pd.read_csv(\"Dataset/2 Cleaned_Predictive_Maintenance.csv\")\n",
    "\n",
    "# Define numeric columns\n",
    "numeric_columns = ['Air temperature [K]', 'Process temperature [K]', 'Rotational speed [rpm]', 'Torque [Nm]', 'Tool wear [min]']\n",
    "\n",
    "# Apply Min-Max Normalization\n",
    "scaler = MinMaxScaler()\n",
    "df[numeric_columns] = scaler.fit_transform(df[numeric_columns])\n",
    "\n",
    "# Define features (X) and target (y)\n",
    "X = df.drop(columns=['machine failure'])  # Features\n",
    "y = df['machine failure']  # Target variable\n",
    "\n",
    "# Apply Random Over-Sampling\n",
    "ros = RandomOverSampler(random_state=42)\n",
    "X_resampled, y_resampled = ros.fit_resample(X, y)\n",
    "\n",
    "# Combine resampled data into a new DataFrame\n",
    "df_resampled = pd.DataFrame(X_resampled, columns=X.columns)\n",
    "df_resampled['machine failure'] = y_resampled  # Add target column back\n",
    "\n",
    "# Save the balanced dataset\n",
    "df_resampled.to_csv(\"Dataset/3 Balanced_Predictive_Maintenance.csv\", index=False)\n",
    "\n",
    "print(\"Normalization and balancing complete. File saved as 'Balanced_Predictive_Maintenance.csv'.\")\n"
   ]
  }
 ],
 "metadata": {
  "language_info": {
   "name": "python"
  }
 },
 "nbformat": 4,
 "nbformat_minor": 2
}
